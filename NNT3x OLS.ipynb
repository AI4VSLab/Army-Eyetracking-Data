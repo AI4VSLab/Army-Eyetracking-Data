{
 "cells": [
  {
   "cell_type": "code",
   "execution_count": 3,
   "metadata": {},
   "outputs": [],
   "source": [
    "import pandas as pd\n",
    "import scipy.io as sio\n",
    "import os\n",
    "import numpy as np\n",
    "import matplotlib.pyplot as plt\n",
    "import statsmodels.api as sm\n",
    "import statsmodels.formula.api as smf"
   ]
  },
  {
   "cell_type": "code",
   "execution_count": 4,
   "metadata": {},
   "outputs": [],
   "source": [
    "subj32 = sio.loadmat('/Users/SydneyWalker/Desktop/army data ai4vs/compiledData/32.mat')\n",
    "#subj132 = sio.loadmat('/Users/SydneyWalker/Desktop/army data ai4vs/compiledData/132.mat')\n",
    "subj163 = sio.loadmat('/Users/SydneyWalker/Desktop/army data ai4vs/compiledData/163.mat')\n",
    "subj256 = sio.loadmat('/Users/SydneyWalker/Desktop/army data ai4vs/compiledData/256.mat')\n",
    "subj395 = sio.loadmat('/Users/SydneyWalker/Desktop/army data ai4vs/compiledData/395.mat')\n",
    "subj424 = sio.loadmat('/Users/SydneyWalker/Desktop/army data ai4vs/compiledData/424.mat')"
   ]
  },
  {
   "cell_type": "code",
   "execution_count": 5,
   "metadata": {},
   "outputs": [],
   "source": [
    "error32 = sio.loadmat('/Users/SydneyWalker/Desktop/NNT3x error /subj32.mat')\n",
    "error163 = sio.loadmat('/Users/SydneyWalker/Desktop/NNT3x error /subj163.mat')\n",
    "error256 = sio.loadmat('/Users/SydneyWalker/Desktop/NNT3x error /subj256.mat')\n",
    "error395 = sio.loadmat('/Users/SydneyWalker/Desktop/NNT3x error /subj395.mat')\n",
    "error424 = sio.loadmat('/Users/SydneyWalker/Desktop/NNT3x error /subj424.mat')\n"
   ]
  },
  {
   "cell_type": "code",
   "execution_count": 6,
   "metadata": {},
   "outputs": [],
   "source": [
    "subj438 = sio.loadmat('/Users/SydneyWalker/Desktop/army data ai4vs/compiledData/438.mat')\n",
    "subj468 = sio.loadmat('/Users/SydneyWalker/Desktop/army data ai4vs/compiledData/468.mat')\n",
    "subj482 = sio.loadmat('/Users/SydneyWalker/Desktop/army data ai4vs/compiledData/482.mat')\n",
    "#subj491 = sio.loadmat('/Users/SydneyWalker/Desktop/army data ai4vs/compiledData/491.mat')\n",
    "subj506 = sio.loadmat('/Users/SydneyWalker/Desktop/army data ai4vs/compiledData/506.mat')\n",
    "subj532 = sio.loadmat('/Users/SydneyWalker/Desktop/army data ai4vs/compiledData/532.mat')"
   ]
  },
  {
   "cell_type": "code",
   "execution_count": 7,
   "metadata": {},
   "outputs": [],
   "source": [
    "error438 = sio.loadmat('/Users/SydneyWalker/Desktop/NNT3x error /subj438.mat')\n",
    "error468 = sio.loadmat('/Users/SydneyWalker/Desktop/NNT3x error /subj468.mat')\n",
    "error482 = sio.loadmat('/Users/SydneyWalker/Desktop/NNT3x error /subj482.mat')\n",
    "error506 = sio.loadmat('/Users/SydneyWalker/Desktop/NNT3x error /subj506.mat')\n",
    "error532 = sio.loadmat('/Users/SydneyWalker/Desktop/NNT3x error /subj532.mat')"
   ]
  },
  {
   "cell_type": "code",
   "execution_count": 8,
   "metadata": {},
   "outputs": [],
   "source": [
    "subj542 = sio.loadmat('/Users/SydneyWalker/Desktop/army data ai4vs/compiledData/542.mat')\n",
    "subj571 = sio.loadmat('/Users/SydneyWalker/Desktop/army data ai4vs/compiledData/571.mat')\n",
    "subj578 = sio.loadmat('/Users/SydneyWalker/Desktop/army data ai4vs/compiledData/578.mat')\n",
    "subj581 = sio.loadmat('/Users/SydneyWalker/Desktop/army data ai4vs/compiledData/581.mat')\n",
    "subj594 = sio.loadmat('/Users/SydneyWalker/Desktop/army data ai4vs/compiledData/594.mat')\n",
    "#subj612 = sio.loadmat('/Users/SydneyWalker/Desktop/army data ai4vs/compiledData/612.mat')"
   ]
  },
  {
   "cell_type": "code",
   "execution_count": 9,
   "metadata": {},
   "outputs": [],
   "source": [
    "error542 = sio.loadmat('/Users/SydneyWalker/Desktop/NNT3x error /subj542.mat')\n",
    "error571 = sio.loadmat('/Users/SydneyWalker/Desktop/NNT3x error /subj571.mat')\n",
    "error578 = sio.loadmat('/Users/SydneyWalker/Desktop/NNT3x error /subj578.mat')\n",
    "error581 = sio.loadmat('/Users/SydneyWalker/Desktop/NNT3x error /subj581.mat')\n",
    "error594 = sio.loadmat('/Users/SydneyWalker/Desktop/NNT3x error /subj594.mat')"
   ]
  },
  {
   "cell_type": "code",
   "execution_count": 10,
   "metadata": {},
   "outputs": [],
   "source": [
    "subj616 = sio.loadmat('/Users/SydneyWalker/Desktop/army data ai4vs/compiledData/616.mat')\n",
    "subj631 = sio.loadmat('/Users/SydneyWalker/Desktop/army data ai4vs/compiledData/631.mat')\n",
    "subj655 = sio.loadmat('/Users/SydneyWalker/Desktop/army data ai4vs/compiledData/655.mat')\n",
    "subj671 = sio.loadmat('/Users/SydneyWalker/Desktop/army data ai4vs/compiledData/671.mat')\n",
    "subj694 = sio.loadmat('/Users/SydneyWalker/Desktop/army data ai4vs/compiledData/694.mat')\n",
    "subj759 = sio.loadmat('/Users/SydneyWalker/Desktop/army data ai4vs/compiledData/759.mat')"
   ]
  },
  {
   "cell_type": "code",
   "execution_count": 11,
   "metadata": {},
   "outputs": [],
   "source": [
    "error616 = sio.loadmat('/Users/SydneyWalker/Desktop/NNT3x error /subj616.mat')\n",
    "error631 = sio.loadmat('/Users/SydneyWalker/Desktop/NNT3x error /subj631.mat')\n",
    "error655 = sio.loadmat('/Users/SydneyWalker/Desktop/NNT3x error /subj655.mat')\n",
    "error671 = sio.loadmat('/Users/SydneyWalker/Desktop/NNT3x error /subj671.mat')\n",
    "error694 = sio.loadmat('/Users/SydneyWalker/Desktop/NNT3x error /subj694.mat')\n",
    "error759 = sio.loadmat('/Users/SydneyWalker/Desktop/NNT3x error /subj759.mat')"
   ]
  },
  {
   "cell_type": "code",
   "execution_count": 12,
   "metadata": {},
   "outputs": [],
   "source": [
    "#subj778 = sio.loadmat('/Users/SydneyWalker/Desktop/army data ai4vs/compiledData/778.mat')\n",
    "#subj783 = sio.loadmat('/Users/SydneyWalker/Desktop/army data ai4vs/compiledData/783.mat')\n",
    "#subj784 = sio.loadmat('/Users/SydneyWalker/Desktop/army data ai4vs/compiledData/784.mat')\n",
    "subj788 = sio.loadmat('/Users/SydneyWalker/Desktop/army data ai4vs/compiledData/788.mat')\n",
    "subj798 = sio.loadmat('/Users/SydneyWalker/Desktop/army data ai4vs/compiledData/798.mat')\n",
    "subj809 = sio.loadmat('/Users/SydneyWalker/Desktop/army data ai4vs/compiledData/809.mat')\n",
    "subj823 = sio.loadmat('/Users/SydneyWalker/Desktop/army data ai4vs/compiledData/823.mat')"
   ]
  },
  {
   "cell_type": "code",
   "execution_count": 13,
   "metadata": {},
   "outputs": [],
   "source": [
    "error788 = sio.loadmat('/Users/SydneyWalker/Desktop/NNT3x error /subj788.mat')\n",
    "error798 = sio.loadmat('/Users/SydneyWalker/Desktop/NNT3x error /subj798.mat')\n",
    "error809 = sio.loadmat('/Users/SydneyWalker/Desktop/NNT3x error /subj809.mat')\n",
    "error823 = sio.loadmat('/Users/SydneyWalker/Desktop/NNT3x error /subj823.mat')"
   ]
  },
  {
   "cell_type": "code",
   "execution_count": 14,
   "metadata": {},
   "outputs": [],
   "source": [
    "subj824 = sio.loadmat('/Users/SydneyWalker/Desktop/army data ai4vs/compiledData/824.mat')\n",
    "subj825 = sio.loadmat('/Users/SydneyWalker/Desktop/army data ai4vs/compiledData/825.mat')\n",
    "subj826 = sio.loadmat('/Users/SydneyWalker/Desktop/army data ai4vs/compiledData/826.mat')\n",
    "#subj828 = sio.loadmat('/Users/SydneyWalker/Desktop/army data ai4vs/compiledData/828.mat')\n",
    "subj830 = sio.loadmat('/Users/SydneyWalker/Desktop/army data ai4vs/compiledData/830.mat')\n",
    "subj831 = sio.loadmat('/Users/SydneyWalker/Desktop/army data ai4vs/compiledData/831.mat')\n",
    "subj832 = sio.loadmat('/Users/SydneyWalker/Desktop/army data ai4vs/compiledData/832.mat')"
   ]
  },
  {
   "cell_type": "code",
   "execution_count": 15,
   "metadata": {},
   "outputs": [],
   "source": [
    "error824 = sio.loadmat('/Users/SydneyWalker/Desktop/NNT3x error /subj824.mat')\n",
    "error825 = sio.loadmat('/Users/SydneyWalker/Desktop/NNT3x error /subj825.mat')\n",
    "error826 = sio.loadmat('/Users/SydneyWalker/Desktop/NNT3x error /subj826.mat')\n",
    "error830 = sio.loadmat('/Users/SydneyWalker/Desktop/NNT3x error /subj830.mat')\n",
    "error831 = sio.loadmat('/Users/SydneyWalker/Desktop/NNT3x error /subj831.mat')\n",
    "error832 = sio.loadmat('/Users/SydneyWalker/Desktop/NNT3x error /subj832.mat')"
   ]
  },
  {
   "cell_type": "code",
   "execution_count": 16,
   "metadata": {},
   "outputs": [],
   "source": [
    "global_X = []\n",
    "global_y = []"
   ]
  },
  {
   "cell_type": "code",
   "execution_count": 17,
   "metadata": {},
   "outputs": [],
   "source": [
    "def new_func(file,error_mat):\n",
    "    nearnotoe3x = file['RVSMS3Results'][0][0][1]\n",
    "    leftsacc_allvariables = []\n",
    "    for i in range(len(nearnotoe3x[0])):\n",
    "        leftsacc_allvariables.append((nearnotoe3x[0][i][3]))\n",
    "        i = i + 1\n",
    "    leftsacc_noerror = []\n",
    "    x = len(leftsacc_allvariables) - 2\n",
    "    for i in range(2,x):\n",
    "        if len(leftsacc_allvariables[i]) == 0:\n",
    "            print([i])\n",
    "        else:\n",
    "            leftsacc_noerror.append(leftsacc_allvariables[i][0][['duration','amp','avgvel']])\n",
    "    #error_mat = sio.loadmat('/Users/SydneyWalker/Desktop/army data ai4vs/compiledData/subj32 NNT8x dy error.mat')\n",
    "    #this line will have to be changed each time as well as making a new error file\n",
    "    error = []\n",
    "    for i in range(len(leftsacc_allvariables)):\n",
    "        if len(leftsacc_allvariables[i]) == 0:\n",
    "            print(error_mat['error'][i]) #changed from NNT8x_error\n",
    "        else:\n",
    "            error.append(tuple(error_mat['error'][i])) #changed from NNT8x_error\n",
    "    leftsacc_list = []\n",
    "    for i in range(len(leftsacc_noerror)):\n",
    "        leftsacc_list.append(leftsacc_noerror[i].tolist())\n",
    "    for i in range(len(leftsacc_list)):\n",
    "        for j in range(len(leftsacc_list[i])):\n",
    "            leftsacc_list[i][j] = leftsacc_list[i][j] + error[i]    \n",
    "    leftsacc_unclean = []\n",
    "    for i in range(len(leftsacc_list)):\n",
    "        for j in range(len(leftsacc_list[i])):\n",
    "            leftsacc_unclean.append(leftsacc_list[i][j])\n",
    "    leftsacc = []\n",
    "    for i in range(len(leftsacc_unclean)):\n",
    "        if len(leftsacc_unclean[i][0]) > 0:\n",
    "            leftsacc.append(leftsacc_unclean[i])\n",
    "    X_list = []\n",
    "    for i in range(len(leftsacc)):\n",
    "        X_list.append(leftsacc[i][0:3])\n",
    "    y = []\n",
    "    for i in range(len(leftsacc)):\n",
    "        y.append(leftsacc[i][3][0,0])\n",
    "    global global_y\n",
    "    global_y.extend(y)\n",
    "    X = []\n",
    "    for row in X_list:\n",
    "        new_row = []\n",
    "        for element in row:\n",
    "            element = float(element[0,0])\n",
    "            new_row.append(element)\n",
    "        X.append(new_row)\n",
    "    global global_X\n",
    "    global_X.extend(X)"
   ]
  },
  {
   "cell_type": "code",
   "execution_count": null,
   "metadata": {},
   "outputs": [],
   "source": [
    "new_func(subj32,error32)\n",
    "new_func(subj163,error163)\n",
    "new_func(subj256,error256)\n",
    "new_func(subj395,error395)\n",
    "new_func(subj424,error424)\n",
    "new_func(subj438,error438)\n",
    "new_func(subj468,error468)\n",
    "new_func(subj482,error482)\n",
    "new_func(subj506,error506)\n",
    "new_func(subj532,error532)\n",
    "new_func(subj542,error542)\n",
    "new_func(subj571,error571)\n",
    "new_func(subj578,error578)\n",
    "new_func(subj581,error581)\n",
    "new_func(subj594,error594)\n",
    "new_func(subj616,error616)\n",
    "new_func(subj631,error631)\n",
    "new_func(subj655,error655)\n",
    "new_func(subj671,error671)\n",
    "new_func(subj694,error694)\n",
    "new_func(subj759,error759)\n",
    "new_func(subj788,error788)\n",
    "new_func(subj798,error798)\n",
    "new_func(subj809,error809)\n",
    "new_func(subj823,error823)\n",
    "new_func(subj824,error824)\n",
    "new_func(subj825,error825)\n",
    "new_func(subj826,error826)\n",
    "new_func(subj830,error830)\n",
    "new_func(subj831,error831)\n",
    "new_func(subj832,error832)"
   ]
  },
  {
   "cell_type": "code",
   "execution_count": 21,
   "metadata": {},
   "outputs": [
    {
     "name": "stdout",
     "output_type": "stream",
     "text": [
      "                            OLS Regression Results                            \n",
      "==============================================================================\n",
      "Dep. Variable:                      y   R-squared:                       0.000\n",
      "Model:                            OLS   Adj. R-squared:                  0.000\n",
      "Method:                 Least Squares   F-statistic:                     7.547\n",
      "Date:                Tue, 13 Jun 2023   Prob (F-statistic):           4.81e-05\n",
      "Time:                        14:18:59   Log-Likelihood:                -63838.\n",
      "No. Observations:               66707   AIC:                         1.277e+05\n",
      "Df Residuals:                   66703   BIC:                         1.277e+05\n",
      "Df Model:                           3                                         \n",
      "Covariance Type:            nonrobust                                         \n",
      "==============================================================================\n",
      "                 coef    std err          t      P>|t|      [0.025      0.975]\n",
      "------------------------------------------------------------------------------\n",
      "const         -0.2100      0.005    -44.975      0.000      -0.219      -0.201\n",
      "x1            -0.0025      0.001     -4.474      0.000      -0.004      -0.001\n",
      "x2             0.0068      0.002      4.141      0.000       0.004       0.010\n",
      "x3            -0.0177      0.009     -1.995      0.046      -0.035      -0.000\n",
      "==============================================================================\n",
      "Omnibus:                    36730.839   Durbin-Watson:                   0.202\n",
      "Prob(Omnibus):                  0.000   Jarque-Bera (JB):         14519722.353\n",
      "Skew:                           1.386   Prob(JB):                         0.00\n",
      "Kurtosis:                      75.224   Cond. No.                         54.0\n",
      "==============================================================================\n",
      "\n",
      "Notes:\n",
      "[1] Standard Errors assume that the covariance matrix of the errors is correctly specified.\n"
     ]
    }
   ],
   "source": [
    "X = np.empty([len(global_X),3])\n",
    "for i in range(len(global_X)):\n",
    "    for j in range(len(global_X[i])):\n",
    "        X[i][j] = global_X[i][j]\n",
    "\n",
    "y = np.empty([len(global_X),1])\n",
    "for i in range(len(global_y)):\n",
    "    y[i] = global_y[i]\n",
    "\n",
    "X = sm.add_constant(X)\n",
    "model = sm.OLS(y, X).fit()\n",
    "print(model.summary())"
   ]
  }
 ],
 "metadata": {
  "kernelspec": {
   "display_name": "base",
   "language": "python",
   "name": "python3"
  },
  "language_info": {
   "codemirror_mode": {
    "name": "ipython",
    "version": 3
   },
   "file_extension": ".py",
   "mimetype": "text/x-python",
   "name": "python",
   "nbconvert_exporter": "python",
   "pygments_lexer": "ipython3",
   "version": "3.9.13"
  },
  "orig_nbformat": 4,
  "vscode": {
   "interpreter": {
    "hash": "d8ae924da46794a1cbf88d5e0019ca8ad6dbdd37da8d02e533956f9d1ba25e02"
   }
  }
 },
 "nbformat": 4,
 "nbformat_minor": 2
}
