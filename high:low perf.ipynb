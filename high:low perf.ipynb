{
 "cells": [
  {
   "cell_type": "code",
   "execution_count": 1,
   "metadata": {},
   "outputs": [],
   "source": [
    "import pandas as pd\n",
    "import scipy.io as sio\n",
    "import os\n",
    "import numpy as np\n",
    "import matplotlib.pyplot as plt\n",
    "import statsmodels.api as sm\n",
    "import statsmodels.formula.api as smf\n",
    "from sklearn.decomposition import PCA\n",
    "from sklearn.preprocessing import StandardScaler"
   ]
  },
  {
   "cell_type": "code",
   "execution_count": 2,
   "metadata": {},
   "outputs": [],
   "source": [
    "#importing data to python \n",
    "leftSacc_mat = sio.loadmat('/Users/SydneyWalker/Desktop/army data ai4vs/compiledData/leftSacc.mat')\n",
    "leftSacc = leftSacc_mat['leftSacc2']"
   ]
  },
  {
   "cell_type": "code",
   "execution_count": 3,
   "metadata": {},
   "outputs": [],
   "source": [
    "error_mat = sio.loadmat('/Users/SydneyWalker/Desktop/army data ai4vs/compiledData/allError.mat')\n",
    "error = error_mat['error2']"
   ]
  },
  {
   "cell_type": "code",
   "execution_count": 4,
   "metadata": {},
   "outputs": [],
   "source": [
    "#create a new list with a row that contains each of the subject IDs ([i][0])\n",
    "leftSacc2 = []\n",
    "\n",
    "for i in range(len(leftSacc)):\n",
    "    leftSacc2.append(leftSacc[i][0].tolist())\n",
    "\n",
    "#append the rest of the columns of leftsacc data to each respective subject, exlcuding the trials of empty rows\n",
    "for i in range(len(leftSacc)):\n",
    "    for j in range(1,len(leftSacc[i])):\n",
    "        if len(leftSacc[i][j]) > 0:\n",
    "            leftSacc2[i].append(leftSacc[i][j])"
   ]
  },
  {
   "cell_type": "code",
   "execution_count": 5,
   "metadata": {},
   "outputs": [],
   "source": [
    "error2 = []\n",
    "\n",
    "#create a new list with a row that contains each of the subject IDs ([i][0])\n",
    "for i in range(len(error)):\n",
    "    error2.append(error[i][0].tolist())\n",
    "\n",
    "#append the rest of the columns of error data to each respective subject, exlcuding the trials of empty rows\n",
    "for i in range(len(error)):\n",
    "    for j in range(1,len(error[i])):\n",
    "        if len(error[i][j]) > 0:\n",
    "            error2[i].append(error[i][j].tolist())"
   ]
  },
  {
   "cell_type": "code",
   "execution_count": 6,
   "metadata": {},
   "outputs": [],
   "source": [
    "#create new list with a row that contaisn each of the subject IDs ([i][0])\n",
    "leftSaccade = []\n",
    "for i in range(len(leftSacc2)):\n",
    "    leftSaccade.append(leftSacc[i][0].tolist())\n",
    "\n",
    "#append the rest of the columns of leftsacc data to each respective subject, exlcuding the padded columns of empty lists\n",
    "for i in range(len(leftSacc2)):\n",
    "    for j in range(1,len(leftSacc2[i])):\n",
    "        if len(leftSacc2[i][j][0]) > 0:\n",
    "            leftSaccade[i].append(leftSacc2[i][j])\n"
   ]
  },
  {
   "cell_type": "code",
   "execution_count": 7,
   "metadata": {},
   "outputs": [],
   "source": [
    "#selecting the varibales of interest\n",
    "for i in range(len(leftSaccade)):\n",
    "    for j in range(1,len(leftSaccade[i])):\n",
    "        leftSaccade[i][j] = leftSaccade[i][j][['duration','amp','avgvel']]"
   ]
  },
  {
   "cell_type": "code",
   "execution_count": 8,
   "metadata": {},
   "outputs": [],
   "source": [
    "leftSaccError = []\n",
    "\n",
    "#create new list with a row that contaisn each of the subject IDs ([i][0])\n",
    "for i in range(len(error2)):\n",
    "    leftSaccError.append(error[i][0].tolist())\n",
    "\n",
    "#append the rest of the columns of error data to each respective subject, exlcuding the padded columns of empty lists\n",
    "for i in range(len(error2)):\n",
    "    for j in range(1,len(error2[i])):\n",
    "        if len(error2[i][j][0]) > 0:\n",
    "            leftSaccError[i].append(error2[i][j])"
   ]
  },
  {
   "cell_type": "code",
   "execution_count": 9,
   "metadata": {},
   "outputs": [],
   "source": [
    "for i in range(len(leftSaccError)):\n",
    "    if len(leftSaccError[i]) != len(leftSaccade[i]):\n",
    "        print([i]) \n",
    "#checking that the error and leftsaccade data are of the same length"
   ]
  },
  {
   "cell_type": "code",
   "execution_count": 10,
   "metadata": {},
   "outputs": [],
   "source": [
    "#making this in list format to make each saccade in tuple format so we can append the error\n",
    "for i in range(len(leftSaccade)):\n",
    "    for j in range(1,len(leftSaccade[i])):\n",
    "        leftSaccade[i][j] = leftSaccade[i][j].tolist()"
   ]
  },
  {
   "cell_type": "code",
   "execution_count": 11,
   "metadata": {},
   "outputs": [],
   "source": [
    "#adding the error to the left saccade data\n",
    "for i in range(len(leftSaccade)):\n",
    "    for j in range(1,len(leftSaccade[i])):\n",
    "        for k in range(len(leftSaccade[i][j][0])):\n",
    "            leftSaccade[i][j][0][k] = leftSaccade[i][j][0][k] + tuple(leftSaccError[i][j])"
   ]
  },
  {
   "cell_type": "code",
   "execution_count": 12,
   "metadata": {},
   "outputs": [],
   "source": [
    "# test = []\n",
    "\n",
    "# for i in range(len(leftSacc)):\n",
    "#     test.append(leftSacc[i][0].tolist())\n",
    "\n",
    "# for i in range(len(leftSaccade)):\n",
    "#     for j in range(1,len(leftSaccade[i])):\n",
    "#         for row in leftSaccade[i][j][0]:\n",
    "#             test[i].append(row[0:3])"
   ]
  },
  {
   "cell_type": "code",
   "execution_count": 13,
   "metadata": {},
   "outputs": [
    {
     "data": {
      "text/plain": [
       "33"
      ]
     },
     "execution_count": 13,
     "metadata": {},
     "output_type": "execute_result"
    }
   ],
   "source": [
    "# len(pd.DataFrame(test))"
   ]
  },
  {
   "cell_type": "code",
   "execution_count": 14,
   "metadata": {},
   "outputs": [
    {
     "data": {
      "text/plain": [
       "[-0.27]"
      ]
     },
     "execution_count": 14,
     "metadata": {},
     "output_type": "execute_result"
    }
   ],
   "source": [
    "# (leftSaccade[32][172][0][5][3])"
   ]
  },
  {
   "cell_type": "code",
   "execution_count": 15,
   "metadata": {},
   "outputs": [],
   "source": [
    "error = []\n",
    "\n",
    "for i in range(len(leftSaccade)):\n",
    "    for j in range(1,len(leftSaccade[i])):\n",
    "        for k in range(len(leftSaccade[i][j][0])):\n",
    "            error.append(leftSaccade[i][j][0][k][3])"
   ]
  },
  {
   "cell_type": "code",
   "execution_count": 16,
   "metadata": {},
   "outputs": [
    {
     "data": {
      "text/plain": [
       "162"
      ]
     },
     "execution_count": 16,
     "metadata": {},
     "output_type": "execute_result"
    }
   ],
   "source": [
    "len(leftSaccade[0])"
   ]
  },
  {
   "cell_type": "code",
   "execution_count": 17,
   "metadata": {},
   "outputs": [
    {
     "data": {
      "text/plain": [
       "0.18493788819875775"
      ]
     },
     "execution_count": 17,
     "metadata": {},
     "output_type": "execute_result"
    }
   ],
   "source": [
    "errors = []\n",
    "\n",
    "for i in range(len(leftSacc)):\n",
    "    errors.append(leftSacc[i][0].tolist())\n",
    "\n",
    "for i in range(len(leftSaccade)):\n",
    "    for j in range(1,len(leftSaccade[i])):\n",
    "        for k in range(len(leftSaccade[i][j][0])):\n",
    "            errors[i].append(abs(leftSaccade[i][j][0][k][3][0]))\n",
    "\n",
    "\n",
    "np.mean(errors[32][1:len(errors[32])])\n",
    "\n"
   ]
  },
  {
   "cell_type": "code",
   "execution_count": 18,
   "metadata": {},
   "outputs": [],
   "source": [
    "errors2 = []\n",
    "\n",
    "for i in range(len(leftSacc)):\n",
    "    errors2.append(leftSacc[i][0].tolist())\n",
    "\n",
    "for i in range(len(errors2)):\n",
    "    errors2[i].append(np.mean(errors[i][1:len(errors[i])]))"
   ]
  },
  {
   "cell_type": "code",
   "execution_count": 19,
   "metadata": {},
   "outputs": [],
   "source": [
    "\n",
    "second_column = [row[1] for row in errors2]\n",
    "\n"
   ]
  },
  {
   "cell_type": "code",
   "execution_count": 20,
   "metadata": {},
   "outputs": [
    {
     "name": "stdout",
     "output_type": "stream",
     "text": [
      "0.20457853244390542\n"
     ]
    }
   ],
   "source": [
    "print(np.percentile(second_column,50)) # == 0.20457853244390542"
   ]
  },
  {
   "cell_type": "code",
   "execution_count": 21,
   "metadata": {},
   "outputs": [
    {
     "data": {
      "text/plain": [
       "(array([[4]], dtype=uint8),\n",
       " array([[0.67510942]]),\n",
       " array([[0.30908282]]),\n",
       " [0.33])"
      ]
     },
     "execution_count": 21,
     "metadata": {},
     "output_type": "execute_result"
    }
   ],
   "source": [
    "leftSaccade[0][1][0][0]"
   ]
  },
  {
   "cell_type": "code",
   "execution_count": 22,
   "metadata": {},
   "outputs": [
    {
     "name": "stdout",
     "output_type": "stream",
     "text": [
      "[163]\n",
      "[256]\n",
      "[32]\n",
      "[395]\n",
      "[424]\n",
      "[438]\n",
      "[468]\n",
      "[482]\n",
      "[491]\n",
      "[506]\n",
      "[532]\n",
      "[542]\n",
      "[571]\n",
      "[578]\n",
      "[581]\n",
      "[594]\n",
      "[616]\n",
      "[631]\n",
      "[655]\n",
      "[671]\n",
      "[694]\n",
      "[759]\n",
      "[778]\n",
      "[783]\n",
      "[788]\n",
      "[798]\n",
      "[809]\n",
      "[823]\n",
      "[824]\n",
      "[826]\n",
      "[830]\n",
      "[831]\n",
      "[832]\n"
     ]
    }
   ],
   "source": [
    "for row in leftSaccade:\n",
    "        print(row[0])"
   ]
  },
  {
   "cell_type": "code",
   "execution_count": 23,
   "metadata": {},
   "outputs": [],
   "source": [
    "# betterSubj = []\n",
    "\n",
    "# for row in errors2:\n",
    "#     if row[1] < 0.20457853244390542:\n",
    "#         betterSubj.append(row[0])\n",
    "#         print(row[0])"
   ]
  },
  {
   "cell_type": "code",
   "execution_count": 24,
   "metadata": {},
   "outputs": [
    {
     "name": "stdout",
     "output_type": "stream",
     "text": [
      "[163]\n",
      "[256]\n",
      "[32]\n",
      "[424]\n",
      "[438]\n",
      "[571]\n",
      "[616]\n",
      "[655]\n",
      "[671]\n",
      "[694]\n",
      "[759]\n",
      "[798]\n",
      "[809]\n",
      "[826]\n",
      "[831]\n",
      "[832]\n"
     ]
    }
   ],
   "source": [
    "betterSubj = []\n",
    "\n",
    "for row in errors2:\n",
    "    if row[1] < 0.20457853244390542:\n",
    "        betterSubj.append(row[0][0])\n",
    "        print(row[0])\n"
   ]
  },
  {
   "cell_type": "code",
   "execution_count": 25,
   "metadata": {},
   "outputs": [],
   "source": [
    "# worseSubj = []\n",
    "\n",
    "# for row in errors2:\n",
    "#     if row[1] > 0.20457853244390542:\n",
    "#         worseSubj.append(row[0])\n",
    "#         print(row[0])"
   ]
  },
  {
   "cell_type": "code",
   "execution_count": 26,
   "metadata": {},
   "outputs": [
    {
     "name": "stdout",
     "output_type": "stream",
     "text": [
      "[395]\n",
      "[468]\n",
      "[482]\n",
      "[491]\n",
      "[506]\n",
      "[532]\n",
      "[578]\n",
      "[581]\n",
      "[594]\n",
      "[631]\n",
      "[778]\n",
      "[783]\n",
      "[788]\n",
      "[823]\n",
      "[824]\n",
      "[830]\n"
     ]
    }
   ],
   "source": [
    "worseSubj = []\n",
    "\n",
    "for row in errors2:\n",
    "    if row[1] > 0.20457853244390542:\n",
    "        worseSubj.append(row[0][0])\n",
    "        print(row[0])"
   ]
  },
  {
   "cell_type": "code",
   "execution_count": 27,
   "metadata": {},
   "outputs": [],
   "source": [
    "lowPerformer = []\n",
    "\n",
    "# #all of the trials before len(220)\n",
    "# for i in range(len(leftSacc)):\n",
    "#     highPerformer.append(leftSacc[i][0].tolist())\n",
    "\n",
    "# leftSaccade[3][0] == [395] or 395\n",
    "\n",
    "# for i in range(len(leftSaccade)):\n",
    "#         if leftSaccade[i][0] in worseSubj:\n",
    "#             lowPerformer.append(leftSaccade[i])\n",
    "\n",
    "# for i in range(len(leftSaccade)):\n",
    "#     for j in range(1,len(leftSaccade[i])):\n",
    "#         if leftSaccade[i][0] in worseSubj:\n",
    "#             lowPerformer[i].append(leftSaccade[i][j])\n",
    "\n",
    "\n",
    "\n",
    "        # for value in (row[0][0] for row in leftSaccade):\n",
    "        #     if value in worsePerformer:\n",
    "        #         lowPerformer[i].append(leftSaccade[i][j])"
   ]
  },
  {
   "cell_type": "code",
   "execution_count": 28,
   "metadata": {},
   "outputs": [],
   "source": [
    "# for i in range(len(leftSaccade)):\n",
    "#         if leftSaccade[i][0] in worseSubj:\n",
    "#             lowPerformer.append(leftSaccade[i])"
   ]
  },
  {
   "cell_type": "code",
   "execution_count": 29,
   "metadata": {},
   "outputs": [],
   "source": [
    "for i in range(len(leftSaccade)):\n",
    "        if leftSaccade[i][0][0] in worseSubj:\n",
    "            lowPerformer.append(leftSaccade[i])"
   ]
  },
  {
   "cell_type": "code",
   "execution_count": 30,
   "metadata": {},
   "outputs": [],
   "source": [
    "highPerformer = []\n",
    "\n",
    "for i in range(len(leftSaccade)):\n",
    "        if leftSaccade[i][0][0] in betterSubj:\n",
    "            highPerformer.append(leftSaccade[i])"
   ]
  },
  {
   "cell_type": "code",
   "execution_count": 31,
   "metadata": {},
   "outputs": [],
   "source": [
    "for i in range(len(highPerformer)):\n",
    "    for j in range(1,len(highPerformer[i])):\n",
    "        for k in range(len(highPerformer[i][j][0])):\n",
    "            highPerformer[i][j][0][k] = list(highPerformer[i][j][0][k])\n",
    "\n"
   ]
  },
  {
   "cell_type": "code",
   "execution_count": 32,
   "metadata": {},
   "outputs": [],
   "source": [
    "for i in range(len(highPerformer)):\n",
    "    for j in range(1,len(highPerformer[i])):\n",
    "        for k in range(len(highPerformer[i][j][0])):\n",
    "            for l in range(len(highPerformer[i][j][0][k][0:3])):\n",
    "                    if (highPerformer[i][j][0][k][l]).size == 1:\n",
    "                        highPerformer[i][j][0][k][l] = float(highPerformer[i][j][0][k][l])"
   ]
  },
  {
   "cell_type": "code",
   "execution_count": 33,
   "metadata": {},
   "outputs": [],
   "source": [
    "for i in range(len(lowPerformer)):\n",
    "    for j in range(1,len(lowPerformer[i])):\n",
    "        for k in range(len(lowPerformer[i][j][0])):\n",
    "            lowPerformer[i][j][0][k] = list(lowPerformer[i][j][0][k])"
   ]
  },
  {
   "cell_type": "code",
   "execution_count": 34,
   "metadata": {},
   "outputs": [],
   "source": [
    "for i in range(len(lowPerformer)):\n",
    "    for j in range(1,len(lowPerformer[i])):\n",
    "        for k in range(len(lowPerformer[i][j][0])):\n",
    "            for l in range(len(lowPerformer[i][j][0][k][0:3])):\n",
    "                    if (lowPerformer[i][j][0][k][l]).size == 1:\n",
    "                        lowPerformer[i][j][0][k][l] = float(lowPerformer[i][j][0][k][l])"
   ]
  },
  {
   "cell_type": "code",
   "execution_count": 40,
   "metadata": {},
   "outputs": [
    {
     "data": {
      "text/plain": [
       "list"
      ]
     },
     "execution_count": 40,
     "metadata": {},
     "output_type": "execute_result"
    }
   ],
   "source": [
    "type(lowPerformer[0][0])"
   ]
  },
  {
   "cell_type": "code",
   "execution_count": 36,
   "metadata": {},
   "outputs": [
    {
     "ename": "NameError",
     "evalue": "name 'stop' is not defined",
     "output_type": "error",
     "traceback": [
      "\u001b[0;31m---------------------------------------------------------------------------\u001b[0m",
      "\u001b[0;31mNameError\u001b[0m                                 Traceback (most recent call last)",
      "\u001b[0;32m/var/folders/qx/pb4kzjds0md1h66brl_wbll80000gn/T/ipykernel_73881/3957423419.py\u001b[0m in \u001b[0;36m<module>\u001b[0;34m\u001b[0m\n\u001b[0;32m----> 1\u001b[0;31m \u001b[0mstop\u001b[0m\u001b[0;34m\u001b[0m\u001b[0;34m\u001b[0m\u001b[0m\n\u001b[0m",
      "\u001b[0;31mNameError\u001b[0m: name 'stop' is not defined"
     ]
    }
   ],
   "source": [
    "stop"
   ]
  },
  {
   "cell_type": "code",
   "execution_count": null,
   "metadata": {},
   "outputs": [],
   "source": [
    "# for i in range(len(highPerformer)):\n",
    "#     for j in range(1,len(highPerformer[i])):\n",
    "#         for k in range(len(highPerformer[i][j][0])):\n",
    "#             for l in range(0,2):\n",
    "#                 if (highPerformer[i][j][0][k][l]).size != 1:\n",
    "#                     print([i],[j],[0],[k],[l])"
   ]
  },
  {
   "cell_type": "code",
   "execution_count": null,
   "metadata": {},
   "outputs": [],
   "source": [
    "# for i in range(len(highPerformer)):\n",
    "#     for j in range(1,len(highPerformer[i])):\n",
    "#         for k in range(len(highPerformer[i][j][0])):\n",
    "#             for l in range(0,2):\n",
    "#                 if (highPerformer[i][j][0][k][l]).size != 1:\n",
    "#                     highPerformer[i][j][0][k].remove(highPerformer[i][j][0][k][l])"
   ]
  },
  {
   "cell_type": "code",
   "execution_count": null,
   "metadata": {},
   "outputs": [],
   "source": [
    "# for i in range(len(highPerformer[15][172][0][5][0:3])):\n",
    "#     highPerformer[15][172][0][5][i] = float(highPerformer[15][172][0][5][i])"
   ]
  },
  {
   "cell_type": "code",
   "execution_count": null,
   "metadata": {},
   "outputs": [],
   "source": [
    "# data_tuple = [float(highPerformer[15][172][0][5][i]) for i in range(len(highPerformer[15][172][0][5][0:3]))]\n",
    "# data_tuple"
   ]
  },
  {
   "cell_type": "code",
   "execution_count": null,
   "metadata": {},
   "outputs": [],
   "source": [
    "# highPerformer[15][172][0][5] = list(highPerformer[15][172][0][5])"
   ]
  },
  {
   "cell_type": "code",
   "execution_count": null,
   "metadata": {},
   "outputs": [],
   "source": [
    "# type(highPerformer[15][172][0][5])"
   ]
  },
  {
   "cell_type": "code",
   "execution_count": null,
   "metadata": {},
   "outputs": [],
   "source": [
    "# data_tuple = []\n",
    "\n",
    "# for i in range(len(highPerformer[15][172][0][5][0:3])):\n",
    "#     highPerformer[15][172][0][5][i] = float(highPerformer[15][172][0][5][i])"
   ]
  },
  {
   "cell_type": "code",
   "execution_count": null,
   "metadata": {},
   "outputs": [],
   "source": [
    "# data_tuple = []\n",
    "\n",
    "# for i in range(len(highPerformer[15][172][0][5][0:3])):\n",
    "#     data_tuple.append(float(highPerformer[15][172][0][5][i]))\n"
   ]
  },
  {
   "cell_type": "code",
   "execution_count": null,
   "metadata": {},
   "outputs": [],
   "source": [
    "# data_tuple"
   ]
  },
  {
   "cell_type": "code",
   "execution_count": null,
   "metadata": {},
   "outputs": [],
   "source": [
    "# result_list = [float(highPerformer[0][1][0][1][0:3][i][0][0]) for i in range(len(highPerformer[0][1][0][1][0:3]))]"
   ]
  },
  {
   "cell_type": "code",
   "execution_count": null,
   "metadata": {},
   "outputs": [],
   "source": [
    "import csv\n",
    "\n",
    "with open('lowPerfomer.csv', 'w', newline = '') as csvfile:\n",
    "    writer = csv.writer(csvfile)\n",
    "    writer.writerow(lowPerformer)\n",
    "\n",
    "\n",
    "with open('highPerformer.csv', 'w', newline = '') as csvfile:\n",
    "    writer = csv.writer(csvfile)\n",
    "    writer.writerow(highPerformer)"
   ]
  },
  {
   "cell_type": "code",
   "execution_count": null,
   "metadata": {},
   "outputs": [],
   "source": [
    "# import scipy.io as sio\n",
    "# import numpy as np\n",
    "\n",
    "# my_variable = np.array([[1, 2, 3], [4, 5, 6], [7, 8, 9]])\n",
    "\n",
    "# # Create a dictionary with variable names as keys\n",
    "# data = {'my_variable': my_variable}\n",
    "\n",
    "# # Save the data to a .mat file\n",
    "# sio.savemat('data.mat', data)\n"
   ]
  },
  {
   "cell_type": "code",
   "execution_count": null,
   "metadata": {},
   "outputs": [],
   "source": [
    "# import scipy.io as sio\n",
    "# import numpy as np\n",
    "\n",
    "# temp = highPerformer.reshape((1, -1))\n",
    "\n",
    "# # Create a dictionary with variable names as keys\n",
    "# data = {'highPerformance': temp}\n",
    "\n",
    "# # Save the data to a .mat file\n",
    "# sio.savemat('highPerformance.mat', data)\n"
   ]
  },
  {
   "cell_type": "code",
   "execution_count": null,
   "metadata": {},
   "outputs": [],
   "source": [
    "for i in range(len(leftSaccade)):\n",
    "        if leftSaccade[i][0] in worseSubj:\n",
    "            print(leftSaccade[i][0])"
   ]
  },
  {
   "cell_type": "code",
   "execution_count": null,
   "metadata": {},
   "outputs": [],
   "source": [
    "lowPerformer.append(leftSaccade[0])"
   ]
  },
  {
   "cell_type": "code",
   "execution_count": null,
   "metadata": {},
   "outputs": [],
   "source": [
    "len(lowPerformer)"
   ]
  },
  {
   "cell_type": "code",
   "execution_count": null,
   "metadata": {},
   "outputs": [],
   "source": [
    "if leftSaccade[0][0] == [163] or [218]:\n",
    "    print(leftSaccade[0][0])"
   ]
  },
  {
   "cell_type": "code",
   "execution_count": null,
   "metadata": {},
   "outputs": [],
   "source": [
    "leftSaccade[3][0] in worseSubj"
   ]
  },
  {
   "cell_type": "code",
   "execution_count": null,
   "metadata": {},
   "outputs": [],
   "source": [
    "list1 = [1, 2, 3, 4, 5]"
   ]
  },
  {
   "cell_type": "code",
   "execution_count": null,
   "metadata": {},
   "outputs": [],
   "source": [
    "list1 = [2, 3, 4, 5]\n",
    "\n",
    "list1[0] == 2 or 1\n"
   ]
  },
  {
   "cell_type": "code",
   "execution_count": null,
   "metadata": {},
   "outputs": [],
   "source": [
    "[row[0][0] for row in leftSaccade] "
   ]
  }
 ],
 "metadata": {
  "kernelspec": {
   "display_name": "base",
   "language": "python",
   "name": "python3"
  },
  "language_info": {
   "codemirror_mode": {
    "name": "ipython",
    "version": 3
   },
   "file_extension": ".py",
   "mimetype": "text/x-python",
   "name": "python",
   "nbconvert_exporter": "python",
   "pygments_lexer": "ipython3",
   "version": "3.9.13"
  },
  "orig_nbformat": 4,
  "vscode": {
   "interpreter": {
    "hash": "d8ae924da46794a1cbf88d5e0019ca8ad6dbdd37da8d02e533956f9d1ba25e02"
   }
  }
 },
 "nbformat": 4,
 "nbformat_minor": 2
}
