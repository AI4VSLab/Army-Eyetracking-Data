{
 "cells": [
  {
   "cell_type": "code",
   "execution_count": 83,
   "metadata": {},
   "outputs": [],
   "source": [
    "#works\n",
    "import pandas as pd\n",
    "import scipy.io as sio\n",
    "import os\n",
    "import numpy as np\n",
    "import matplotlib.pyplot as plt\n",
    "import statsmodels.api as sm\n",
    "import statsmodels.formula.api as smf"
   ]
  },
  {
   "cell_type": "code",
   "execution_count": 84,
   "metadata": {},
   "outputs": [],
   "source": [
    "#works\n",
    "subj32 = sio.loadmat('/Users/SydneyWalker/Desktop/army data ai4vs/compiledData/32.mat')"
   ]
  },
  {
   "cell_type": "code",
   "execution_count": 86,
   "metadata": {},
   "outputs": [],
   "source": [
    "#works\n",
    "nearnotoe3x = subj32['RVSMS3Results'][0][0][1]"
   ]
  },
  {
   "cell_type": "code",
   "execution_count": 87,
   "metadata": {},
   "outputs": [],
   "source": [
    "#works\n",
    "leftsacc_allvariables = []\n",
    "\n",
    "for i in range(len(nearnotoe3x[0])):\n",
    "    leftsacc_allvariables.append((nearnotoe3x[0][i][3]))\n",
    "    i = i + 1"
   ]
  },
  {
   "cell_type": "code",
   "execution_count": 88,
   "metadata": {},
   "outputs": [],
   "source": [
    "#works\n",
    "leftsacc_noerror = []\n",
    "\n",
    "for i in range(2,237):\n",
    "    leftsacc_noerror.append(leftsacc_allvariables[i][0][['duration','amp','avgvel']])"
   ]
  },
  {
   "cell_type": "code",
   "execution_count": 89,
   "metadata": {},
   "outputs": [],
   "source": [
    "#works\n",
    "error_mat = sio.loadmat('/Users/SydneyWalker/Desktop/army data ai4vs/compiledData/dy_error.mat')"
   ]
  },
  {
   "cell_type": "code",
   "execution_count": 90,
   "metadata": {},
   "outputs": [],
   "source": [
    "#works \n",
    "error = []\n",
    "\n",
    "for i in range(2,237):\n",
    "    error.append(tuple(error_mat['NNT3x_dyerror'][i]))"
   ]
  },
  {
   "cell_type": "code",
   "execution_count": 91,
   "metadata": {},
   "outputs": [],
   "source": [
    "#works\n",
    "leftsacc_list = []\n",
    "\n",
    "for i in range(len(leftsacc_noerror)):\n",
    "    leftsacc_list.append(leftsacc_noerror[i].tolist())"
   ]
  },
  {
   "cell_type": "code",
   "execution_count": 92,
   "metadata": {},
   "outputs": [],
   "source": [
    "#works\n",
    "for i in range(len(leftsacc_list)):\n",
    "    for j in range(len(leftsacc_list[i])):\n",
    "        leftsacc_list[i][j] = leftsacc_list[i][j] + error[i]"
   ]
  },
  {
   "cell_type": "code",
   "execution_count": null,
   "metadata": {},
   "outputs": [],
   "source": [
    "#columns are: constant(1.0), duration, amplitude, average saccade velocity, error"
   ]
  },
  {
   "cell_type": "code",
   "execution_count": 176,
   "metadata": {},
   "outputs": [],
   "source": [
    "#works\n",
    "leftsacc = []\n",
    "\n",
    "for i in range(len(leftsacc_list)):\n",
    "    for j in range(len(leftsacc_list[i])):\n",
    "        leftsacc.append(leftsacc_list[i][j])"
   ]
  },
  {
   "cell_type": "code",
   "execution_count": null,
   "metadata": {},
   "outputs": [],
   "source": [
    "#run this first?\n",
    "print(len(leftsacc))\n",
    "for i in range(len(leftsacc)):\n",
    "   # print(len(leftsacc2))\n",
    "    if len(leftsacc[i][0]) == 0:\n",
    "        #print(len(leftsacc2[i]))\n",
    "        leftsacc.remove(leftsacc[i])\n",
    "print(len(leftsacc))"
   ]
  },
  {
   "cell_type": "code",
   "execution_count": 178,
   "metadata": {},
   "outputs": [
    {
     "name": "stdout",
     "output_type": "stream",
     "text": [
      "1468\n",
      "1468\n"
     ]
    }
   ],
   "source": [
    "#works\n",
    "print(len(leftsacc))\n",
    "for i in range(len(leftsacc)):\n",
    "   # print(len(leftsacc2))\n",
    "    if len(leftsacc[i]) != 4:\n",
    "        #print(len(leftsacc2[i]))\n",
    "        leftsacc.remove(leftsacc[i])\n",
    "print(len(leftsacc))"
   ]
  },
  {
   "cell_type": "code",
   "execution_count": 184,
   "metadata": {},
   "outputs": [],
   "source": [
    "#works \n",
    "X_array = []\n",
    "\n",
    "for i in range(len(leftsacc)):\n",
    "        X_array.append(leftsacc[i][0:3])"
   ]
  },
  {
   "cell_type": "code",
   "execution_count": 185,
   "metadata": {},
   "outputs": [],
   "source": [
    "#works \n",
    "y = []\n",
    "\n",
    "for i in range(len(leftsacc)):\n",
    "        y.append(leftsacc[i][3][0,0])"
   ]
  },
  {
   "cell_type": "code",
   "execution_count": 186,
   "metadata": {},
   "outputs": [],
   "source": [
    "#works \n",
    "X = []\n",
    "\n",
    "for row in X_array:\n",
    "    new_row = []\n",
    "    for element in row:\n",
    "        #print('before', element)\n",
    "        element = float(element[0,0])\n",
    "        #print('after ', element)\n",
    "        new_row.append(element)\n",
    "    #print('new',new_row)  \n",
    "    X.append(new_row)"
   ]
  },
  {
   "cell_type": "code",
   "execution_count": 194,
   "metadata": {},
   "outputs": [],
   "source": [
    "Xarray = np.empty([1468, 3])\n",
    "\n",
    "for i in range(len(X)):\n",
    "    for j in range(len(X[i])):\n",
    "        Xarray[i][j] = X[i][j]"
   ]
  },
  {
   "cell_type": "code",
   "execution_count": 198,
   "metadata": {},
   "outputs": [],
   "source": [
    "Yarray = np.empty([1468,1])\n",
    "\n",
    "for i in range(len(y)):\n",
    "        Yarray[i] = y[i]"
   ]
  },
  {
   "cell_type": "code",
   "execution_count": 202,
   "metadata": {},
   "outputs": [
    {
     "name": "stdout",
     "output_type": "stream",
     "text": [
      "                            OLS Regression Results                            \n",
      "==============================================================================\n",
      "Dep. Variable:                      y   R-squared:                       0.005\n",
      "Model:                            OLS   Adj. R-squared:                  0.003\n",
      "Method:                 Least Squares   F-statistic:                     2.683\n",
      "Date:                Fri, 09 Jun 2023   Prob (F-statistic):             0.0454\n",
      "Time:                        09:12:18   Log-Likelihood:                -520.44\n",
      "No. Observations:                1468   AIC:                             1049.\n",
      "Df Residuals:                    1464   BIC:                             1070.\n",
      "Df Model:                           3                                         \n",
      "Covariance Type:            nonrobust                                         \n",
      "==============================================================================\n",
      "                 coef    std err          t      P>|t|      [0.025      0.975]\n",
      "------------------------------------------------------------------------------\n",
      "const          0.1515      0.017      8.927      0.000       0.118       0.185\n",
      "x1             0.0037      0.002      1.515      0.130      -0.001       0.008\n",
      "x2            -0.0146      0.006     -2.259      0.024      -0.027      -0.002\n",
      "x3             0.0101      0.025      0.405      0.686      -0.039       0.059\n",
      "==============================================================================\n",
      "Omnibus:                      119.651   Durbin-Watson:                   0.309\n",
      "Prob(Omnibus):                  0.000   Jarque-Bera (JB):              150.275\n",
      "Skew:                          -0.723   Prob(JB):                     2.33e-33\n",
      "Kurtosis:                       3.605   Cond. No.                         49.8\n",
      "==============================================================================\n",
      "\n",
      "Notes:\n",
      "[1] Standard Errors assume that the covariance matrix of the errors is correctly specified.\n"
     ]
    }
   ],
   "source": [
    "Xarray = sm.add_constant(Xarray)\n",
    "model = sm.OLS(Yarray, Xarray).fit()\n",
    "print(model.summary())"
   ]
  },
  {
   "cell_type": "code",
   "execution_count": 201,
   "metadata": {},
   "outputs": [
    {
     "name": "stdout",
     "output_type": "stream",
     "text": [
      "                                 OLS Regression Results                                \n",
      "=======================================================================================\n",
      "Dep. Variable:                      y   R-squared (uncentered):                   0.116\n",
      "Model:                            OLS   Adj. R-squared (uncentered):              0.114\n",
      "Method:                 Least Squares   F-statistic:                              64.17\n",
      "Date:                Fri, 09 Jun 2023   Prob (F-statistic):                    5.56e-39\n",
      "Time:                        09:12:15   Log-Likelihood:                         -559.34\n",
      "No. Observations:                1468   AIC:                                      1125.\n",
      "Df Residuals:                    1465   BIC:                                      1141.\n",
      "Df Model:                           3                                                  \n",
      "Covariance Type:            nonrobust                                                  \n",
      "==============================================================================\n",
      "                 coef    std err          t      P>|t|      [0.025      0.975]\n",
      "------------------------------------------------------------------------------\n",
      "x1             0.0177      0.002      9.190      0.000       0.014       0.021\n",
      "x2            -0.0412      0.006     -6.967      0.000      -0.053      -0.030\n",
      "x3             0.1204      0.022      5.387      0.000       0.077       0.164\n",
      "==============================================================================\n",
      "Omnibus:                      118.022   Durbin-Watson:                   0.352\n",
      "Prob(Omnibus):                  0.000   Jarque-Bera (JB):              149.546\n",
      "Skew:                          -0.706   Prob(JB):                     3.36e-33\n",
      "Kurtosis:                       3.673   Cond. No.                         40.0\n",
      "==============================================================================\n",
      "\n",
      "Notes:\n",
      "[1] R² is computed without centering (uncentered) since the model does not contain a constant.\n",
      "[2] Standard Errors assume that the covariance matrix of the errors is correctly specified.\n"
     ]
    }
   ],
   "source": [
    "#works \n",
    "model = sm.OLS(y,X).fit()\n",
    "print(model.summary())\n"
   ]
  },
  {
   "cell_type": "code",
   "execution_count": null,
   "metadata": {},
   "outputs": [],
   "source": [
    "subj132 = sio.loadmat('/Users/SydneyWalker/Desktop/army data ai4vs/compiledData/132.mat')\n",
    "subj163 = sio.loadmat('/Users/SydneyWalker/Desktop/army data ai4vs/compiledData/163.mat')\n",
    "subj256 = sio.loadmat('/Users/SydneyWalker/Desktop/army data ai4vs/compiledData/256.mat')\n",
    "subj395 = sio.loadmat('/Users/SydneyWalker/Desktop/army data ai4vs/compiledData/395.mat')\n",
    "subj424 = sio.loadmat('/Users/SydneyWalker/Desktop/army data ai4vs/compiledData/424.mat')\n",
    "subj438 = sio.loadmat('/Users/SydneyWalker/Desktop/army data ai4vs/compiledData/438.mat')\n",
    "subj468 = sio.loadmat('/Users/SydneyWalker/Desktop/army data ai4vs/compiledData/468.mat')\n",
    "subj482 = sio.loadmat('/Users/SydneyWalker/Desktop/army data ai4vs/compiledData/132.mat')\n",
    "subj491 = sio.loadmat('/Users/SydneyWalker/Desktop/army data ai4vs/compiledData/132.mat')\n",
    "subj506 = sio.loadmat('/Users/SydneyWalker/Desktop/army data ai4vs/compiledData/132.mat')\n",
    "subj532 = sio.loadmat('/Users/SydneyWalker/Desktop/army data ai4vs/compiledData/132.mat')\n",
    "subj542 = sio.loadmat('/Users/SydneyWalker/Desktop/army data ai4vs/compiledData/132.mat')\n",
    "subj571 = sio.loadmat('/Users/SydneyWalker/Desktop/army data ai4vs/compiledData/132.mat')\n",
    "subj578 = sio.loadmat('/Users/SydneyWalker/Desktop/army data ai4vs/compiledData/132.mat')\n",
    "subj581 = sio.loadmat('/Users/SydneyWalker/Desktop/army data ai4vs/compiledData/132.mat')\n",
    "subj594 = sio.loadmat('/Users/SydneyWalker/Desktop/army data ai4vs/compiledData/132.mat')\n",
    "subj612 = sio.loadmat('/Users/SydneyWalker/Desktop/army data ai4vs/compiledData/132.mat')\n",
    "subj616 = sio.loadmat('/Users/SydneyWalker/Desktop/army data ai4vs/compiledData/132.mat')\n",
    "subj631 = sio.loadmat('/Users/SydneyWalker/Desktop/army data ai4vs/compiledData/132.mat')\n",
    "subj655 = sio.loadmat('/Users/SydneyWalker/Desktop/army data ai4vs/compiledData/132.mat')\n",
    "subj671 = sio.loadmat('/Users/SydneyWalker/Desktop/army data ai4vs/compiledData/132.mat')\n",
    "subj694 = sio.loadmat('/Users/SydneyWalker/Desktop/army data ai4vs/compiledData/132.mat')\n",
    "subj759 = sio.loadmat('/Users/SydneyWalker/Desktop/army data ai4vs/compiledData/132.mat')\n",
    "subj778 = sio.loadmat('/Users/SydneyWalker/Desktop/army data ai4vs/compiledData/132.mat')\n",
    "subj783 = sio.loadmat('/Users/SydneyWalker/Desktop/army data ai4vs/compiledData/132.mat')\n",
    "subj784 = sio.loadmat('/Users/SydneyWalker/Desktop/army data ai4vs/compiledData/132.mat')\n",
    "subj788 = sio.loadmat('/Users/SydneyWalker/Desktop/army data ai4vs/compiledData/132.mat')\n",
    "subj798 = sio.loadmat('/Users/SydneyWalker/Desktop/army data ai4vs/compiledData/132.mat')\n",
    "subj809 = sio.loadmat('/Users/SydneyWalker/Desktop/army data ai4vs/compiledData/132.mat')\n",
    "subj823 = sio.loadmat('/Users/SydneyWalker/Desktop/army data ai4vs/compiledData/132.mat')\n",
    "subj824 = sio.loadmat('/Users/SydneyWalker/Desktop/army data ai4vs/compiledData/132.mat')\n",
    "subj825 = sio.loadmat('/Users/SydneyWalker/Desktop/army data ai4vs/compiledData/132.mat')\n",
    "subj826 = sio.loadmat('/Users/SydneyWalker/Desktop/army data ai4vs/compiledData/132.mat')\n",
    "subj828 = sio.loadmat('/Users/SydneyWalker/Desktop/army data ai4vs/compiledData/132.mat')\n",
    "subj830 = sio.loadmat('/Users/SydneyWalker/Desktop/army data ai4vs/compiledData/132.mat')\n",
    "subj831 = sio.loadmat('/Users/SydneyWalker/Desktop/army data ai4vs/compiledData/132.mat')\n",
    "subj832 = sio.loadmat('/Users/SydneyWalker/Desktop/army data ai4vs/compiledData/132.mat')\n",
    "\n"
   ]
  },
  {
   "cell_type": "code",
   "execution_count": 203,
   "metadata": {},
   "outputs": [],
   "source": [
    "folder_path = '/Users/SydneyWalker/Desktop/army data ai4vs/compiledData'\n",
    "mat_files = [file for file in os.listdir(folder_path) if file.endswith('.mat')]\n",
    "\n",
    "for file in mat_files:\n",
    "    file_path = os.path.join(folder_path, file)\n",
    "\n",
    "data = sio.loadmat(file_path)"
   ]
  }
 ],
 "metadata": {
  "kernelspec": {
   "display_name": "base",
   "language": "python",
   "name": "python3"
  },
  "language_info": {
   "codemirror_mode": {
    "name": "ipython",
    "version": 3
   },
   "file_extension": ".py",
   "mimetype": "text/x-python",
   "name": "python",
   "nbconvert_exporter": "python",
   "pygments_lexer": "ipython3",
   "version": "3.9.13 (main, Aug 25 2022, 18:29:29) \n[Clang 12.0.0 ]"
  },
  "orig_nbformat": 4,
  "vscode": {
   "interpreter": {
    "hash": "d8ae924da46794a1cbf88d5e0019ca8ad6dbdd37da8d02e533956f9d1ba25e02"
   }
  }
 },
 "nbformat": 4,
 "nbformat_minor": 2
}
